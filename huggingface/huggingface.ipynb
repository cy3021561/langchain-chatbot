{
 "cells": [
  {
   "cell_type": "code",
   "execution_count": 3,
   "metadata": {},
   "outputs": [],
   "source": [
    "from langchain_community.document_loaders import PyPDFLoader\n",
    "from langchain_community.document_loaders import PyPDFDirectoryLoader\n",
    "from langchain.text_splitter import RecursiveCharacterTextSplitter\n",
    "from langchain_community.vectorstores import FAISS\n",
    "from langchain_community.embeddings import HuggingFaceBgeEmbeddings\n",
    "from langchain.prompts import PromptTemplate\n",
    "from langchain.chains import RetrievalQA"
   ]
  },
  {
   "cell_type": "code",
   "execution_count": 4,
   "metadata": {},
   "outputs": [
    {
     "data": {
      "text/plain": [
       "Document(page_content='Health Insurance Coverage Status and Type \\nby Geography: 2021 and 2022\\nAmerican Community Survey Briefs\\nACSBR-015Issued September 2023Douglas Conway and Breauna Branch\\nINTRODUCTION\\nDemographic shifts as well as economic and govern-\\nment policy changes can affect people’s access to health coverage. For example, between 2021 and 2022, the labor market continued to improve, which may have affected private coverage in the United States \\nduring that time.\\n1 Public policy changes included \\nthe renewal of the Public Health Emergency, which \\nallowed Medicaid enrollees to remain covered under the Continuous Enrollment Provision.\\n2 The American \\nRescue Plan (ARP) enhanced Marketplace premium subsidies for those with incomes above 400 percent of the poverty level as well as for unemployed people.\\n3', metadata={'source': 'us_census\\\\acsbr-015.pdf', 'page': 0})"
      ]
     },
     "execution_count": 4,
     "metadata": {},
     "output_type": "execute_result"
    }
   ],
   "source": [
    "## Read the pdfs from the folder\n",
    "loader = PyPDFDirectoryLoader(\"./us_census\")\n",
    "docs = loader.load()\n",
    "text_splitter = RecursiveCharacterTextSplitter(chunk_size=1000, chunk_overlap=200)\n",
    "final_docs = text_splitter.split_documents(docs)\n",
    "final_docs[0]"
   ]
  },
  {
   "cell_type": "code",
   "execution_count": 5,
   "metadata": {},
   "outputs": [
    {
     "data": {
      "text/plain": [
       "316"
      ]
     },
     "execution_count": 5,
     "metadata": {},
     "output_type": "execute_result"
    }
   ],
   "source": [
    "len(final_docs)"
   ]
  },
  {
   "cell_type": "code",
   "execution_count": 14,
   "metadata": {},
   "outputs": [
    {
     "name": "stderr",
     "output_type": "stream",
     "text": [
      "c:\\Users\\chun\\anaconda3\\envs\\LC\\lib\\site-packages\\huggingface_hub\\file_download.py:1132: FutureWarning: `resume_download` is deprecated and will be removed in version 1.0.0. Downloads always resume when possible. If you want to force a new download, use `force_download=True`.\n",
      "  warnings.warn(\n"
     ]
    }
   ],
   "source": [
    "## Embedding Using Huggingface\n",
    "huggingface_embeddings = HuggingFaceBgeEmbeddings(\n",
    "    model_name=\"BAAI/bge-small-en-v1.5\",\n",
    "    model_kwargs={\"device\":\"cpu\"},\n",
    "    encode_kwargs={\"normalize_embeddings\":True}\n",
    ")"
   ]
  },
  {
   "cell_type": "code",
   "execution_count": 15,
   "metadata": {},
   "outputs": [
    {
     "data": {
      "text/plain": [
       "array([-8.46568793e-02, -1.19099170e-02, -3.37892920e-02,  2.94559058e-02,\n",
       "        5.19159809e-02,  5.73840030e-02, -4.10017446e-02,  2.74267811e-02,\n",
       "       -1.05128214e-01, -1.58056132e-02,  7.94858560e-02,  5.64318411e-02,\n",
       "       -1.31765492e-02, -3.41544114e-02,  5.81604149e-03,  4.72548120e-02,\n",
       "       -1.30746895e-02,  3.12990299e-03, -3.44225466e-02,  3.08406278e-02,\n",
       "       -4.09085974e-02,  3.52738164e-02, -2.43761465e-02, -4.35831547e-02,\n",
       "        2.41503213e-02,  1.31986653e-02, -4.84451978e-03,  1.92347635e-02,\n",
       "       -5.43912798e-02, -1.42735019e-01,  5.15527837e-03,  2.93115564e-02,\n",
       "       -5.60810938e-02, -8.53537861e-03,  3.14141549e-02,  2.76736338e-02,\n",
       "       -2.06188150e-02,  8.24231356e-02,  4.15425263e-02,  5.79655208e-02,\n",
       "       -3.71586867e-02,  6.26157969e-03, -2.41390150e-02, -5.61794871e-03,\n",
       "       -2.51715239e-02,  5.04968641e-03, -2.52801068e-02, -2.91944365e-03,\n",
       "       -8.24044459e-03, -5.69604151e-02,  2.30823029e-02, -5.54218842e-03,\n",
       "        5.11555709e-02,  6.09937645e-02,  6.49765804e-02, -5.38514107e-02,\n",
       "        2.19109636e-02, -2.54194289e-02, -4.49222960e-02,  4.22459021e-02,\n",
       "        4.75252122e-02,  7.23206671e-04, -2.61084497e-01,  9.30173174e-02,\n",
       "        1.13597354e-02,  4.90668975e-02, -1.06287012e-02, -8.08730535e-03,\n",
       "       -1.53562585e-02, -5.33785671e-02, -6.89967200e-02,  4.75178324e-02,\n",
       "       -5.68596050e-02,  9.38642770e-03,  4.24065925e-02,  2.54346561e-02,\n",
       "        9.67094675e-03,  7.90799223e-03,  2.25161146e-02,  1.91004574e-03,\n",
       "        3.06091718e-02,  2.43991949e-02, -1.34115247e-02, -4.77400981e-02,\n",
       "        4.89940047e-02, -9.49416459e-02,  5.62894121e-02, -4.76260558e-02,\n",
       "        2.81447452e-02, -2.54329368e-02, -3.84951420e-02,  1.00940308e-02,\n",
       "        1.90548919e-04,  3.36625502e-02,  1.00182034e-02,  2.83524171e-02,\n",
       "       -2.68965145e-03, -6.96359808e-03, -3.54914665e-02,  3.42758924e-01,\n",
       "       -1.94496717e-02,  1.43988086e-02, -5.68814296e-03,  1.71480980e-02,\n",
       "       -2.88611278e-03, -5.81653379e-02,  6.35170611e-04,  5.17297583e-03,\n",
       "        2.06331313e-02,  1.65708289e-02,  2.15096306e-02, -2.38796119e-02,\n",
       "        2.89275646e-02,  4.67318967e-02, -3.56105044e-02, -1.05079003e-02,\n",
       "        3.70704830e-02,  1.57502685e-02,  9.43095684e-02, -2.50715129e-02,\n",
       "       -9.55963880e-03,  1.78565662e-02, -9.41779930e-03, -4.57858630e-02,\n",
       "        1.82930343e-02,  5.81431687e-02,  4.94311228e-02,  1.46350682e-01,\n",
       "        2.16057915e-02, -3.92895713e-02,  1.03241228e-01, -3.48300226e-02,\n",
       "       -6.61869813e-03,  7.07986997e-03,  9.26986511e-04,  4.49867919e-03,\n",
       "       -2.89777461e-02,  4.02419008e-02, -5.23190247e-03,  4.59961817e-02,\n",
       "        4.23968304e-03, -4.83794231e-03, -3.23237758e-03, -1.41072854e-01,\n",
       "       -3.76811288e-02,  1.83623910e-01, -2.96609569e-02,  4.90660407e-02,\n",
       "        3.90551649e-02, -1.57757271e-02, -3.86350937e-02,  4.65631038e-02,\n",
       "       -2.43485738e-02,  3.57695110e-02, -3.54947150e-02,  2.36265790e-02,\n",
       "       -3.41979088e-04,  3.11703812e-02, -2.39356644e-02, -5.94758019e-02,\n",
       "        6.06259443e-02, -3.81902233e-02, -7.04255402e-02,  1.42479744e-02,\n",
       "        3.34432274e-02, -3.85255069e-02, -1.71951298e-02, -7.12288693e-02,\n",
       "        2.64976099e-02,  1.09496089e-02,  1.32650463e-02,  3.89527753e-02,\n",
       "        1.60355587e-02, -3.17630358e-02,  1.02013707e-01,  2.92912144e-02,\n",
       "       -2.29205564e-02, -8.38055648e-03, -1.72173008e-02, -6.78820312e-02,\n",
       "        5.39420964e-03, -2.32347194e-02, -6.07406870e-02, -3.86575758e-02,\n",
       "       -1.54306358e-02, -3.84983644e-02, -5.02867624e-02,  5.04234843e-02,\n",
       "        4.94897999e-02, -1.41083347e-02, -2.98144063e-03,  9.76594165e-05,\n",
       "       -6.59190267e-02,  3.01006921e-02, -5.46604628e-04, -1.64787713e-02,\n",
       "       -5.21614663e-02, -3.30226822e-03,  4.75748368e-02, -3.40808295e-02,\n",
       "       -2.98660155e-02,  2.75014751e-02,  5.90202585e-03, -2.64040986e-03,\n",
       "       -1.61242988e-02,  2.05222387e-02,  1.21105211e-02, -5.49782291e-02,\n",
       "        5.10389954e-02, -7.92088080e-03,  7.25204963e-03,  3.51751149e-02,\n",
       "        3.66276763e-02,  5.67735638e-04,  2.60788444e-02,  2.50971168e-02,\n",
       "        1.14481123e-02, -2.54924949e-02,  1.96417905e-02,  2.84220148e-02,\n",
       "        2.82554161e-02,  6.57489821e-02,  9.26553607e-02, -2.68629730e-01,\n",
       "       -8.90594383e-04,  3.16917174e-03,  5.08357864e-03, -6.42100796e-02,\n",
       "       -4.56614718e-02, -4.62259836e-02,  3.60924974e-02,  8.29055998e-03,\n",
       "        8.92349482e-02,  5.68022095e-02,  6.91060023e-03, -1.08684078e-02,\n",
       "        9.36060473e-02,  1.03680734e-02, -8.60929936e-02,  1.77331790e-02,\n",
       "       -2.00802702e-02, -1.85124911e-02,  5.62394504e-04, -9.38335434e-03,\n",
       "        7.76061183e-03, -5.37273660e-02, -2.30028611e-02,  7.48890713e-02,\n",
       "       -1.29693048e-02,  6.53717071e-02, -4.24983092e-02, -7.10294023e-02,\n",
       "       -1.56803597e-02, -6.23028502e-02,  5.36034144e-02, -6.53213076e-03,\n",
       "       -1.15985513e-01,  6.70968443e-02,  1.93367079e-02, -6.67828172e-02,\n",
       "       -2.01756065e-03, -6.27636686e-02, -2.95005199e-02, -2.71986239e-02,\n",
       "        4.49796878e-02, -6.61586970e-02,  2.13751160e-02, -2.94077620e-02,\n",
       "       -5.71503155e-02,  4.05282080e-02,  7.11039379e-02, -6.80165142e-02,\n",
       "        2.11908538e-02,  1.30515164e-02, -2.91152745e-02, -2.25581657e-02,\n",
       "       -1.60188507e-02,  3.20554189e-02, -5.89460395e-02, -2.97131799e-02,\n",
       "        3.42681929e-02, -1.58376284e-02, -9.31771193e-03,  3.59834284e-02,\n",
       "        3.65343108e-03,  4.73319925e-02, -1.06235286e-02, -8.69737845e-03,\n",
       "       -4.38009910e-02,  5.94555913e-03, -2.41493732e-02, -7.79940933e-02,\n",
       "        1.46542294e-02,  1.05613992e-02,  5.45365475e-02, -3.17897052e-02,\n",
       "       -1.26763135e-02,  7.92559981e-03, -1.38132954e-02,  5.01396507e-02,\n",
       "       -7.28574861e-03, -5.23700193e-03, -5.32640554e-02,  4.78208698e-02,\n",
       "       -5.38353957e-02,  1.11437608e-02,  3.96674387e-02, -1.93496253e-02,\n",
       "        9.94819403e-03, -3.53480410e-03,  3.58559797e-03, -9.61499754e-03,\n",
       "        2.15324089e-02, -1.82350539e-02, -2.15188824e-02, -1.38835916e-02,\n",
       "       -1.76699292e-02,  3.37965350e-04, -3.84873128e-04, -2.25800544e-01,\n",
       "        4.51243147e-02,  1.53377121e-02, -1.76967289e-02, -1.42526133e-02,\n",
       "       -7.00284308e-03, -3.13725099e-02,  2.13673990e-03, -9.28347837e-03,\n",
       "       -1.66986957e-02,  4.66264449e-02,  7.71809146e-02,  1.26696959e-01,\n",
       "       -1.83595456e-02, -1.39637012e-02, -1.23304222e-03,  5.93339205e-02,\n",
       "       -1.37461140e-03,  1.98233351e-02, -2.92635690e-02,  4.96656783e-02,\n",
       "       -6.07207529e-02,  1.53544784e-01, -4.67309430e-02,  1.97029077e-02,\n",
       "       -7.67833591e-02, -7.73231685e-03,  3.71618867e-02, -3.00591365e-02,\n",
       "        8.30264017e-03,  2.06259135e-02,  1.97463622e-03,  3.39764282e-02,\n",
       "       -1.70869380e-02,  4.84796241e-02,  1.20781939e-02,  1.24999238e-02,\n",
       "        5.61724193e-02,  9.88544337e-03,  2.13878993e-02, -4.25293222e-02,\n",
       "       -1.94037184e-02,  2.47837789e-02,  1.37260677e-02,  6.41119704e-02,\n",
       "       -2.84480881e-02, -4.64116558e-02, -5.36255650e-02, -6.95097988e-05,\n",
       "        6.45709857e-02, -4.32043278e-04, -1.32470559e-02,  5.85134700e-03,\n",
       "        1.48595665e-02, -5.41847311e-02, -2.02038772e-02, -5.98262809e-02,\n",
       "        3.67029011e-02,  1.43319916e-03, -8.64465628e-03,  2.90671494e-02,\n",
       "        4.38365676e-02, -7.64942914e-02,  1.55718299e-02,  6.65830672e-02])"
      ]
     },
     "execution_count": 15,
     "metadata": {},
     "output_type": "execute_result"
    }
   ],
   "source": [
    "import numpy as np\n",
    "np.array(huggingface_embeddings.embed_query(final_docs[0].page_content))\n"
   ]
  },
  {
   "cell_type": "code",
   "execution_count": 16,
   "metadata": {},
   "outputs": [],
   "source": [
    "## Vectorstore creation\n",
    "vectorstore = FAISS.from_documents(final_docs, huggingface_embeddings)"
   ]
  },
  {
   "cell_type": "code",
   "execution_count": 17,
   "metadata": {},
   "outputs": [
    {
     "name": "stdout",
     "output_type": "stream",
     "text": [
      "2 U.S. Census Bureau\n",
      "WHAT IS HEALTH INSURANCE COVERAGE?\n",
      "This brief presents state-level estimates of health insurance coverage \n",
      "using data from the American Community Survey (ACS). The  \n",
      "U.S. Census Bureau conducts the ACS throughout the year; the \n",
      "survey asks respondents to report their coverage at the time of \n",
      "interview. The resulting measure of health insurance coverage, \n",
      "therefore, reflects an annual average of current comprehensive \n",
      "health insurance coverage status.* This uninsured rate measures a \n",
      "different concept than the measure based on the Current Population \n",
      "Survey Annual Social and Economic Supplement (CPS ASEC). \n",
      "For reporting purposes, the ACS broadly classifies health insurance \n",
      "coverage as private insurance or public insurance. The ACS defines \n",
      "private health insurance as a plan provided through an employer \n",
      "or a union, coverage purchased directly by an individual from an \n",
      "insurance company or through an exchange (such as healthcare.\n"
     ]
    }
   ],
   "source": [
    "## Query using Similarity Search\n",
    "query = \"What is the health insurance coverage?\"\n",
    "relevant_docments = vectorstore.similarity_search(query)\n",
    "\n",
    "print(relevant_docments[0].page_content)"
   ]
  },
  {
   "cell_type": "code",
   "execution_count": 18,
   "metadata": {},
   "outputs": [
    {
     "name": "stdout",
     "output_type": "stream",
     "text": [
      "tags=['FAISS', 'HuggingFaceBgeEmbeddings'] vectorstore=<langchain_community.vectorstores.faiss.FAISS object at 0x0000020435E512A0> search_kwargs={'k': 3}\n"
     ]
    }
   ],
   "source": [
    "retriever = vectorstore.as_retriever(search_type=\"similarity\", search_kwargs={\"k\":3})\n",
    "print(retriever)"
   ]
  },
  {
   "cell_type": "code",
   "execution_count": 34,
   "metadata": {},
   "outputs": [],
   "source": [
    "import os\n",
    "from dotenv import load_dotenv\n",
    "load_dotenv()\n",
    "os.environ[\"HUGGINGFACEHUB_API_TOKEN\"] = os.getenv(\"HUGGINGFACEHUB_API_TOKEN\")"
   ]
  },
  {
   "cell_type": "code",
   "execution_count": null,
   "metadata": {},
   "outputs": [],
   "source": [
    "from langchain_community.llms import HuggingFaceHub\n",
    "\n",
    "hf = HuggingFaceHub(\n",
    "    repo_id=\"mistralai/Mistral-7B-v0.1\",\n",
    "    model_kwargs={\"temperature\":0.1, \"max_length\":500}\n",
    ")\n",
    "\n",
    "query = \"What is the health insurance coverage?\"\n",
    "hf.invoke(query)"
   ]
  },
  {
   "cell_type": "code",
   "execution_count": null,
   "metadata": {},
   "outputs": [],
   "source": [
    "#Hugging Face models can be run locally through the HuggingFacePipeline class.\n",
    "from langchain_community.llms.huggingface_pipeline import HuggingFacePipeline\n",
    "\n",
    "hf = HuggingFacePipeline.from_model_id(\n",
    "    model_id=\"mistralai/Mistral-7B-v0.1\",\n",
    "    task=\"text-generation\",\n",
    "    pipeline_kwargs={\"temperature\": 0, \"max_new_tokens\": 300}\n",
    ")\n",
    "\n",
    "llm = hf \n",
    "llm.invoke(query)"
   ]
  },
  {
   "cell_type": "code",
   "execution_count": 41,
   "metadata": {},
   "outputs": [],
   "source": [
    "prompt_template = \"\"\"\n",
    "Use the following piece of context to answer the question asked.\n",
    "Please try to provide the answer only based on the context:\n",
    "<context>\n",
    "{context}\n",
    "</context>\n",
    "Question:{question}\n",
    "Helpful Answers:\n",
    " \"\"\""
   ]
  },
  {
   "cell_type": "code",
   "execution_count": 42,
   "metadata": {},
   "outputs": [],
   "source": [
    "prompt = PromptTemplate(template=prompt_template, input_variables=[\"context\",\"question\"])"
   ]
  },
  {
   "cell_type": "code",
   "execution_count": 43,
   "metadata": {},
   "outputs": [],
   "source": [
    "retrievalQA = RetrievalQA.from_chain_type(\n",
    "    llm=hf,\n",
    "    chain_type=\"stuff\",\n",
    "    retriever=retriever,\n",
    "    return_source_documents=True,\n",
    "    chain_type_kwargs={\"prompt\":prompt}\n",
    ")"
   ]
  },
  {
   "cell_type": "code",
   "execution_count": null,
   "metadata": {},
   "outputs": [],
   "source": [
    "# Call the QA chain with our query.\n",
    "query = \"\"\"DIFFERENCES IN THE UNINSURED RATE BY STATE IN 2022\"\"\"\n",
    "result = retrievalQA.invoke({\"query\": query})\n",
    "print(result['result'])"
   ]
  }
 ],
 "metadata": {
  "kernelspec": {
   "display_name": "LC",
   "language": "python",
   "name": "python3"
  },
  "language_info": {
   "codemirror_mode": {
    "name": "ipython",
    "version": 3
   },
   "file_extension": ".py",
   "mimetype": "text/x-python",
   "name": "python",
   "nbconvert_exporter": "python",
   "pygments_lexer": "ipython3",
   "version": "3.10.14"
  }
 },
 "nbformat": 4,
 "nbformat_minor": 2
}
